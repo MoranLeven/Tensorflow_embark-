{
  "nbformat": 4,
  "nbformat_minor": 0,
  "metadata": {
    "colab": {
      "name": "Tensorflow_embark.ipynb",
      "provenance": [],
      "private_outputs": true,
      "collapsed_sections": [],
      "authorship_tag": "ABX9TyNTa2E8uYjsaIZEJ2QcLbKr",
      "include_colab_link": true
    },
    "kernelspec": {
      "name": "python3",
      "display_name": "Python 3"
    }
  },
  "cells": [
    {
      "cell_type": "markdown",
      "metadata": {
        "id": "view-in-github",
        "colab_type": "text"
      },
      "source": [
        "<a href=\"https://colab.research.google.com/github/MoranLeven/Tensorflow_embark-/blob/master/Tensorflow_embark.ipynb\" target=\"_parent\"><img src=\"https://colab.research.google.com/assets/colab-badge.svg\" alt=\"Open In Colab\"/></a>"
      ]
    },
    {
      "cell_type": "code",
      "metadata": {
        "id": "VGCBBz_njMMK",
        "colab_type": "code",
        "colab": {}
      },
      "source": [
        "import numpy as np \n",
        "import tensorflow as tf\n",
        "from tensorflow import keras\n",
        "\n"
      ],
      "execution_count": 0,
      "outputs": []
    },
    {
      "cell_type": "code",
      "metadata": {
        "id": "Vp1yqg6IkwAp",
        "colab_type": "code",
        "colab": {}
      },
      "source": [
        "model = tf.keras.Sequential([keras.layers.Dense(units = 1, input_shape=[1])])"
      ],
      "execution_count": 0,
      "outputs": []
    },
    {
      "cell_type": "code",
      "metadata": {
        "id": "cOUQt7QolLwI",
        "colab_type": "code",
        "colab": {}
      },
      "source": [
        "model.compile(optimizer='sgd', loss = 'mean_squared_error')"
      ],
      "execution_count": 0,
      "outputs": []
    },
    {
      "cell_type": "markdown",
      "metadata": {
        "id": "K5ABmj1TlMJ8",
        "colab_type": "text"
      },
      "source": [
        "*Providing the data to the model :)*"
      ]
    },
    {
      "cell_type": "code",
      "metadata": {
        "id": "RliwMdkclMgK",
        "colab_type": "code",
        "colab": {}
      },
      "source": [
        "x = np.array([i for i in range(1,11)],dtype= int)\n",
        "y = np.array([j for j in range(1,20,2)],dtype = int)\n",
        "print(x,'\\n',y)"
      ],
      "execution_count": 0,
      "outputs": []
    },
    {
      "cell_type": "code",
      "metadata": {
        "id": "lpXGRsWzpwhA",
        "colab_type": "code",
        "colab": {}
      },
      "source": [
        "model.fit(x, y , epochs = 500)"
      ],
      "execution_count": 0,
      "outputs": []
    },
    {
      "cell_type": "code",
      "metadata": {
        "id": "0CkYr2S0p3Ma",
        "colab_type": "code",
        "colab": {}
      },
      "source": [
        "print(model.predict([20]))\n",
        "print(model.predict([10]))\n",
        "print(model.predict([1]))"
      ],
      "execution_count": 0,
      "outputs": []
    }
  ]
}